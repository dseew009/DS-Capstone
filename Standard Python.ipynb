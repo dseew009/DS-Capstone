{
 "cells": [
  {
   "cell_type": "markdown",
   "id": "07f9a5b4",
   "metadata": {},
   "source": [
    "# Python Text Processing\n",
    "\n",
    "This notebook contains all the code associated with the standard python text pre-processing."
   ]
  },
  {
   "cell_type": "markdown",
   "id": "0e408742",
   "metadata": {},
   "source": [
    "## Project Setup\n",
    "\n",
    "This section imports all required libraries and downloads data for required packages. The installation will only download `stopwords` again if it is not up to date."
   ]
  },
  {
   "cell_type": "code",
   "execution_count": 1,
   "id": "71aaa41a",
   "metadata": {},
   "outputs": [
    {
     "name": "stderr",
     "output_type": "stream",
     "text": [
      "[nltk_data] Downloading package stopwords to\n",
      "[nltk_data]     /home/cheetah/nltk_data...\n",
      "[nltk_data]   Package stopwords is already up-to-date!\n",
      "[nltk_data] Downloading package punkt to /home/cheetah/nltk_data...\n",
      "[nltk_data]   Package punkt is already up-to-date!\n",
      "[nltk_data] Downloading package wordnet to /home/cheetah/nltk_data...\n",
      "[nltk_data]   Package wordnet is already up-to-date!\n",
      "[nltk_data] Downloading package omw-1.4 to /home/cheetah/nltk_data...\n",
      "[nltk_data]   Package omw-1.4 is already up-to-date!\n"
     ]
    },
    {
     "data": {
      "text/plain": [
       "True"
      ]
     },
     "execution_count": 1,
     "metadata": {},
     "output_type": "execute_result"
    }
   ],
   "source": [
    "import pandas as pd\n",
    "import nltk\n",
    "import string\n",
    "import re\n",
    "from nltk.tokenize import word_tokenize\n",
    "from nltk.corpus import stopwords\n",
    "from nltk.stem import WordNetLemmatizer\n",
    "from sklearn.feature_extraction.text import CountVectorizer\n",
    "from sklearn.decomposition import LatentDirichletAllocation as LDA\n",
    "\n",
    "# Install nltk data\n",
    "nltk.download('stopwords')\n",
    "nltk.download('punkt')\n",
    "nltk.download('wordnet')\n",
    "nltk.download('omw-1.4')"
   ]
  },
  {
   "cell_type": "markdown",
   "id": "276a42cb",
   "metadata": {},
   "source": [
    "## Loading the Text\n",
    "\n",
    "This section will load in the data.\n",
    "\n",
    "First, the data is read into a pandas data frame.\n",
    "\n",
    "The reviews are read into a column of lists called `num_reviews`. This is exploded so that each review in the list becomes its own row."
   ]
  },
  {
   "cell_type": "code",
   "execution_count": 2,
   "id": "976fea96",
   "metadata": {},
   "outputs": [],
   "source": [
    "reviews = pd.read_json('../../data/raw/appsearch_reviews/appsearch_reviews.txt', lines=True)\n",
    "reviews = reviews.explode(\"reviews\").reset_index(drop=True).drop(\"num_reviews\", axis=1)"
   ]
  },
  {
   "cell_type": "markdown",
   "id": "04db9eeb",
   "metadata": {},
   "source": [
    "## Exploring the Data\n",
    "\n",
    "This section will do a quick exploration of the data for major issues. Things to include\n",
    "\n",
    "* Missing records\n",
    "* Check very short and very long records\n",
    "\n",
    "First, start with a preview of the dataframe records and a count of total records."
   ]
  },
  {
   "cell_type": "code",
   "execution_count": 3,
   "id": "606adae8",
   "metadata": {},
   "outputs": [
    {
     "data": {
      "text/html": [
       "<div>\n",
       "<style scoped>\n",
       "    .dataframe tbody tr th:only-of-type {\n",
       "        vertical-align: middle;\n",
       "    }\n",
       "\n",
       "    .dataframe tbody tr th {\n",
       "        vertical-align: top;\n",
       "    }\n",
       "\n",
       "    .dataframe thead th {\n",
       "        text-align: right;\n",
       "    }\n",
       "</style>\n",
       "<table border=\"1\" class=\"dataframe\">\n",
       "  <thead>\n",
       "    <tr style=\"text-align: right;\">\n",
       "      <th></th>\n",
       "      <th>reviews</th>\n",
       "      <th>app_id</th>\n",
       "    </tr>\n",
       "  </thead>\n",
       "  <tbody>\n",
       "    <tr>\n",
       "      <th>0</th>\n",
       "      <td>This game is very good! Kudos to the developer...</td>\n",
       "      <td>com.nut.man</td>\n",
       "    </tr>\n",
       "    <tr>\n",
       "      <th>1</th>\n",
       "      <td>Terrific just get rid of ads and it will be th...</td>\n",
       "      <td>com.nut.man</td>\n",
       "    </tr>\n",
       "    <tr>\n",
       "      <th>2</th>\n",
       "      <td>I CAN'T STOP TAPPING.  This game is too addict...</td>\n",
       "      <td>com.nut.man</td>\n",
       "    </tr>\n",
       "    <tr>\n",
       "      <th>3</th>\n",
       "      <td>.  The game itself is really fun but the way t...</td>\n",
       "      <td>com.nut.man</td>\n",
       "    </tr>\n",
       "    <tr>\n",
       "      <th>4</th>\n",
       "      <td>ADS GALORE!.  I was bored 1 day then came acro...</td>\n",
       "      <td>com.nut.man</td>\n",
       "    </tr>\n",
       "  </tbody>\n",
       "</table>\n",
       "</div>"
      ],
      "text/plain": [
       "                                             reviews       app_id\n",
       "0  This game is very good! Kudos to the developer...  com.nut.man\n",
       "1  Terrific just get rid of ads and it will be th...  com.nut.man\n",
       "2  I CAN'T STOP TAPPING.  This game is too addict...  com.nut.man\n",
       "3  .  The game itself is really fun but the way t...  com.nut.man\n",
       "4  ADS GALORE!.  I was bored 1 day then came acro...  com.nut.man"
      ]
     },
     "metadata": {},
     "output_type": "display_data"
    },
    {
     "name": "stdout",
     "output_type": "stream",
     "text": [
      "--------------------------\n",
      "Number of records: 1388668\n"
     ]
    }
   ],
   "source": [
    "display(reviews.head())\n",
    "\n",
    "print(f'--------------------------\\nNumber of records: {len(reviews)}')"
   ]
  },
  {
   "cell_type": "markdown",
   "id": "88b72b45",
   "metadata": {},
   "source": [
    "## Pre-process the Text\n",
    "\n",
    "This section will go through basic text cleaning steps.\n",
    "\n",
    "* Normalize the text (make all text lowercase)\n",
    "* Remove special characters\n",
    "* Remove common stop words\n",
    "* Remove numbers\n",
    "* Remove extra whitespaces\n",
    "* Tokenize the words\n",
    "* Stem the words\n",
    "\n",
    "The basic stopwords are coming from the `nltk` packages english `stopwords` list.\n",
    "\n",
    "The `filters` variable contains special characters to remove from the text, including tab and newline characters"
   ]
  },
  {
   "cell_type": "code",
   "execution_count": 4,
   "id": "02a686c3",
   "metadata": {
    "scrolled": false
   },
   "outputs": [
    {
     "name": "stdout",
     "output_type": "stream",
     "text": [
      "CPU times: user 28min 46s, sys: 2min 4s, total: 30min 50s\n",
      "Wall time: 30min 53s\n"
     ]
    }
   ],
   "source": [
    "%%time\n",
    "# Lowercase text\n",
    "reviews['clean_text'] = reviews['reviews'].str.lower()\n",
    "\n",
    "# Remove punctuation\n",
    "reviews['clean_text'] = reviews['clean_text'].str.translate(str.maketrans('','', string.punctuation))\n",
    "\n",
    "# Remove extra leading/trailing whitespaces\n",
    "reviews['clean_text'] = reviews['clean_text'].str.strip()\n",
    "\n",
    "# Tokenize the text\n",
    "reviews['clean_text'] = reviews['clean_text'].apply(lambda x: word_tokenize(str(x)))\n",
    "\n",
    "# Remove stop words\n",
    "clean_text_temp = []\n",
    "for text in reviews['clean_text']:\n",
    "    no_stop_words = []\n",
    "    for word in text:\n",
    "        if word not in stopwords.words('english'):\n",
    "            no_stop_words.append(word)\n",
    "    clean_text_temp.append(no_stop_words)\n",
    "reviews['clean_text'] = clean_text_temp\n",
    "\n",
    "# Lemmatize\n",
    "lemmatizer = WordNetLemmatizer()\n",
    "clean_text_temp = []\n",
    "for text in reviews['clean_text']:\n",
    "    lemmatized_words = []\n",
    "    for word in text:\n",
    "        lemmatized_words.append(lemmatizer.lemmatize(word))\n",
    "    clean_text_temp.append(lemmatized_words)\n",
    "reviews['clean_text'] = clean_text_temp\n",
    "\n",
    "temp_text = []\n",
    "for word_list in reviews['clean_text']:\n",
    "    temp_text.append(\" \".join(word_list))\n",
    "reviews['clean_text'] = temp_text\n",
    "\n",
    "# Vectorize the Text\n",
    "count_vectorizer = CountVectorizer(stop_words='english')\n",
    "count_vectorizer.fit(reviews['clean_text'].values)\n",
    "\n",
    "count_data = count_vectorizer.transform(reviews['clean_text'].values)"
   ]
  },
  {
   "cell_type": "code",
   "execution_count": 5,
   "id": "34ba7947",
   "metadata": {},
   "outputs": [
    {
     "data": {
      "text/html": [
       "<div>\n",
       "<style scoped>\n",
       "    .dataframe tbody tr th:only-of-type {\n",
       "        vertical-align: middle;\n",
       "    }\n",
       "\n",
       "    .dataframe tbody tr th {\n",
       "        vertical-align: top;\n",
       "    }\n",
       "\n",
       "    .dataframe thead th {\n",
       "        text-align: right;\n",
       "    }\n",
       "</style>\n",
       "<table border=\"1\" class=\"dataframe\">\n",
       "  <thead>\n",
       "    <tr style=\"text-align: right;\">\n",
       "      <th></th>\n",
       "      <th>reviews</th>\n",
       "      <th>app_id</th>\n",
       "      <th>clean_text</th>\n",
       "    </tr>\n",
       "  </thead>\n",
       "  <tbody>\n",
       "    <tr>\n",
       "      <th>0</th>\n",
       "      <td>This game is very good! Kudos to the developer...</td>\n",
       "      <td>com.nut.man</td>\n",
       "      <td>game good kudos developer wow absolutely stunn...</td>\n",
       "    </tr>\n",
       "    <tr>\n",
       "      <th>1</th>\n",
       "      <td>Terrific just get rid of ads and it will be th...</td>\n",
       "      <td>com.nut.man</td>\n",
       "      <td>terrific get rid ad best game ever even though...</td>\n",
       "    </tr>\n",
       "    <tr>\n",
       "      <th>2</th>\n",
       "      <td>I CAN'T STOP TAPPING.  This game is too addict...</td>\n",
       "      <td>com.nut.man</td>\n",
       "      <td>cant stop tapping game addicting challenging a...</td>\n",
       "    </tr>\n",
       "    <tr>\n",
       "      <th>3</th>\n",
       "      <td>.  The game itself is really fun but the way t...</td>\n",
       "      <td>com.nut.man</td>\n",
       "      <td>game really fun way ad get slipped irritating ...</td>\n",
       "    </tr>\n",
       "    <tr>\n",
       "      <th>4</th>\n",
       "      <td>ADS GALORE!.  I was bored 1 day then came acro...</td>\n",
       "      <td>com.nut.man</td>\n",
       "      <td>ad galore bored 1 day came across game love im...</td>\n",
       "    </tr>\n",
       "    <tr>\n",
       "      <th>...</th>\n",
       "      <td>...</td>\n",
       "      <td>...</td>\n",
       "      <td>...</td>\n",
       "    </tr>\n",
       "    <tr>\n",
       "      <th>1388663</th>\n",
       "      <td>Awesome.  Unlike other apps this does not requ...</td>\n",
       "      <td>air.com.jcward.speedwords</td>\n",
       "      <td>awesome unlike apps require people buy app pla...</td>\n",
       "    </tr>\n",
       "    <tr>\n",
       "      <th>1388664</th>\n",
       "      <td>Simple concept well executed.  The game is sim...</td>\n",
       "      <td>air.com.jcward.speedwords</td>\n",
       "      <td>simple concept well executed game simple play ...</td>\n",
       "    </tr>\n",
       "    <tr>\n",
       "      <th>1388665</th>\n",
       "      <td>.  Engaging</td>\n",
       "      <td>air.com.jcward.speedwords_demo</td>\n",
       "      <td>engaging</td>\n",
       "    </tr>\n",
       "    <tr>\n",
       "      <th>1388666</th>\n",
       "      <td>Just playyyy.  So cool</td>\n",
       "      <td>air.com.jcward.speedwords_demo</td>\n",
       "      <td>playyyy cool</td>\n",
       "    </tr>\n",
       "    <tr>\n",
       "      <th>1388667</th>\n",
       "      <td>A fun addictive game..  A great time filler fo...</td>\n",
       "      <td>com.nickhorne.sqword</td>\n",
       "      <td>fun addictive game great time filler idle minute</td>\n",
       "    </tr>\n",
       "  </tbody>\n",
       "</table>\n",
       "<p>1388668 rows × 3 columns</p>\n",
       "</div>"
      ],
      "text/plain": [
       "                                                   reviews  \\\n",
       "0        This game is very good! Kudos to the developer...   \n",
       "1        Terrific just get rid of ads and it will be th...   \n",
       "2        I CAN'T STOP TAPPING.  This game is too addict...   \n",
       "3        .  The game itself is really fun but the way t...   \n",
       "4        ADS GALORE!.  I was bored 1 day then came acro...   \n",
       "...                                                    ...   \n",
       "1388663  Awesome.  Unlike other apps this does not requ...   \n",
       "1388664  Simple concept well executed.  The game is sim...   \n",
       "1388665                                        .  Engaging   \n",
       "1388666                             Just playyyy.  So cool   \n",
       "1388667  A fun addictive game..  A great time filler fo...   \n",
       "\n",
       "                                 app_id  \\\n",
       "0                           com.nut.man   \n",
       "1                           com.nut.man   \n",
       "2                           com.nut.man   \n",
       "3                           com.nut.man   \n",
       "4                           com.nut.man   \n",
       "...                                 ...   \n",
       "1388663       air.com.jcward.speedwords   \n",
       "1388664       air.com.jcward.speedwords   \n",
       "1388665  air.com.jcward.speedwords_demo   \n",
       "1388666  air.com.jcward.speedwords_demo   \n",
       "1388667            com.nickhorne.sqword   \n",
       "\n",
       "                                                clean_text  \n",
       "0        game good kudos developer wow absolutely stunn...  \n",
       "1        terrific get rid ad best game ever even though...  \n",
       "2        cant stop tapping game addicting challenging a...  \n",
       "3        game really fun way ad get slipped irritating ...  \n",
       "4        ad galore bored 1 day came across game love im...  \n",
       "...                                                    ...  \n",
       "1388663  awesome unlike apps require people buy app pla...  \n",
       "1388664  simple concept well executed game simple play ...  \n",
       "1388665                                           engaging  \n",
       "1388666                                       playyyy cool  \n",
       "1388667   fun addictive game great time filler idle minute  \n",
       "\n",
       "[1388668 rows x 3 columns]"
      ]
     },
     "metadata": {},
     "output_type": "display_data"
    },
    {
     "name": "stdout",
     "output_type": "stream",
     "text": [
      "  (0, 17967)\t1\n",
      "  (0, 19827)\t1\n",
      "  (0, 20225)\t1\n",
      "  (0, 60556)\t1\n",
      "  (0, 75845)\t1\n",
      "  (0, 89202)\t1\n",
      "  (0, 93377)\t1\n",
      "  (0, 118069)\t1\n",
      "  (0, 119608)\t1\n",
      "  (0, 128266)\t2\n",
      "  (0, 135480)\t1\n",
      "  (0, 155396)\t1\n",
      "  (0, 176597)\t1\n",
      "  (0, 276675)\t1\n",
      "  (0, 291213)\t1\n",
      "  (0, 320399)\t1\n",
      "  (0, 339110)\t1\n",
      "  (1, 19827)\t3\n",
      "  (1, 47717)\t1\n",
      "  (1, 62049)\t1\n",
      "  (1, 114697)\t1\n",
      "  (1, 128266)\t2\n",
      "  (1, 130993)\t1\n",
      "  (1, 135480)\t2\n",
      "  (1, 175157)\t1\n",
      "  :\t:\n",
      "  (1388663, 257134)\t1\n",
      "  (1388663, 318405)\t1\n",
      "  (1388664, 20225)\t1\n",
      "  (1388664, 74018)\t1\n",
      "  (1388664, 110658)\t1\n",
      "  (1388664, 128266)\t1\n",
      "  (1388664, 147994)\t1\n",
      "  (1388664, 182528)\t2\n",
      "  (1388664, 206505)\t1\n",
      "  (1388664, 222081)\t1\n",
      "  (1388664, 233399)\t1\n",
      "  (1388664, 236542)\t3\n",
      "  (1388664, 269735)\t1\n",
      "  (1388664, 276675)\t2\n",
      "  (1388665, 105174)\t1\n",
      "  (1388666, 76393)\t1\n",
      "  (1388666, 237558)\t1\n",
      "  (1388667, 20225)\t1\n",
      "  (1388667, 117673)\t1\n",
      "  (1388667, 125864)\t1\n",
      "  (1388667, 128266)\t1\n",
      "  (1388667, 138133)\t1\n",
      "  (1388667, 153989)\t1\n",
      "  (1388667, 199911)\t1\n",
      "  (1388667, 306009)\t1\n"
     ]
    }
   ],
   "source": [
    "display(reviews)\n",
    "print(count_data)"
   ]
  },
  {
   "cell_type": "markdown",
   "id": "2702d396",
   "metadata": {},
   "source": [
    "## Compute the LDA Model\n",
    "\n",
    "Now to compute the LDA model. It takes the count data and computes the specified number of topics."
   ]
  },
  {
   "cell_type": "code",
   "execution_count": 6,
   "id": "1550766e",
   "metadata": {},
   "outputs": [
    {
     "name": "stdout",
     "output_type": "stream",
     "text": [
      "[['game', 'love', 'good', 'like', 'great'], ['app', 'work', 'great', 'good', 'use']]\n",
      "CPU times: user 38min 10s, sys: 285 ms, total: 38min 11s\n",
      "Wall time: 38min 11s\n"
     ]
    }
   ],
   "source": [
    "%%time\n",
    "number_of_topics = 2\n",
    "number_of_words = 5\n",
    "lda = LDA(n_components=number_of_topics)\n",
    "lda.fit(count_data)\n",
    "\n",
    "# output topics\n",
    "words = count_vectorizer.get_feature_names_out()\n",
    "\n",
    "topics = [[words[i] for i in topic.argsort()[:-number_of_words - 1:-1]] for (topic_idx, topic) in enumerate(lda.components_)]\n",
    "\n",
    "print(topics)"
   ]
  }
 ],
 "metadata": {
  "kernelspec": {
   "display_name": "Python 3 (ipykernel)",
   "language": "python",
   "name": "python3"
  },
  "language_info": {
   "codemirror_mode": {
    "name": "ipython",
    "version": 3
   },
   "file_extension": ".py",
   "mimetype": "text/x-python",
   "name": "python",
   "nbconvert_exporter": "python",
   "pygments_lexer": "ipython3",
   "version": "3.9.12"
  }
 },
 "nbformat": 4,
 "nbformat_minor": 5
}
