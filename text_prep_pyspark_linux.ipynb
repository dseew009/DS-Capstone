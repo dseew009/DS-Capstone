{
 "cells": [
  {
   "cell_type": "markdown",
   "metadata": {},
   "source": [
    "# Apache Spark (Pyspark) Text Prep"
   ]
  },
  {
   "cell_type": "markdown",
   "metadata": {},
   "source": [
    "## Notebook Setup\n",
    "\n",
    "The following will load the required libraries and setup the environment for use."
   ]
  },
  {
   "cell_type": "code",
   "execution_count": 1,
   "metadata": {},
   "outputs": [],
   "source": [
    "import pyspark\n",
    "from pyspark.sql import SparkSession\n",
    "import pyspark.sql.functions as F\n",
    "from pyspark.ml.feature import Tokenizer, CountVectorizer, IDF"
   ]
  },
  {
   "cell_type": "code",
   "execution_count": 2,
   "metadata": {},
   "outputs": [
    {
     "name": "stdout",
     "output_type": "stream",
     "text": [
      "22/11/13 21:09:27 WARN Utils: Your hostname, cheetah resolves to a loopback address: 127.0.1.1; using 192.168.1.66 instead (on interface eno1)\n",
      "22/11/13 21:09:27 WARN Utils: Set SPARK_LOCAL_IP if you need to bind to another address\n"
     ]
    },
    {
     "name": "stderr",
     "output_type": "stream",
     "text": [
      "Setting default log level to \"WARN\".\n",
      "To adjust logging level use sc.setLogLevel(newLevel). For SparkR, use setLogLevel(newLevel).\n"
     ]
    },
    {
     "name": "stdout",
     "output_type": "stream",
     "text": [
      "22/11/13 21:09:27 WARN NativeCodeLoader: Unable to load native-hadoop library for your platform... using builtin-java classes where applicable\n",
      "pyspark version: 3.3.0\n"
     ]
    }
   ],
   "source": [
    "spark = SparkSession.builder.master('local[*]').config(\"spark.driver.memory\", \"24g\").appName('spark').getOrCreate()\n",
    "sc = spark.sparkContext\n",
    "print(f'pyspark version: {sc.version}')"
   ]
  },
  {
   "cell_type": "markdown",
   "metadata": {},
   "source": [
    "## Load the App Reviews Dataset\n",
    "\n",
    "Here we load the mobile application reviews data set"
   ]
  },
  {
   "cell_type": "code",
   "execution_count": 3,
   "metadata": {},
   "outputs": [
    {
     "name": "stderr",
     "output_type": "stream",
     "text": [
      "\r",
      "[Stage 0:>                                                          (0 + 8) / 8]\r",
      "\r",
      "                                                                                \r"
     ]
    }
   ],
   "source": [
    "mobile_app_reviews_path = '../../data/raw/appsearch_reviews/appsearch_reviews.txt'\n",
    "mobile_app_reviews_df = spark.read.json(mobile_app_reviews_path)"
   ]
  },
  {
   "cell_type": "code",
   "execution_count": 4,
   "metadata": {},
   "outputs": [
    {
     "name": "stdout",
     "output_type": "stream",
     "text": [
      "root\n",
      " |-- app_id: string (nullable = true)\n",
      " |-- num_reviews: long (nullable = true)\n",
      " |-- reviews: array (nullable = true)\n",
      " |    |-- element: string (containsNull = true)\n",
      "\n"
     ]
    }
   ],
   "source": [
    "mobile_app_reviews_df.printSchema()"
   ]
  },
  {
   "cell_type": "markdown",
   "metadata": {},
   "source": [
    "## Prepare the App Reviews for Explorations"
   ]
  },
  {
   "cell_type": "code",
   "execution_count": 5,
   "metadata": {},
   "outputs": [
    {
     "name": "stdout",
     "output_type": "stream",
     "text": [
      "+--------------------+-----------+--------------------+\n",
      "|              app_id|num_reviews|             reviews|\n",
      "+--------------------+-----------+--------------------+\n",
      "|         com.nut.man|         50|[This game is ver...|\n",
      "|com.gamevil.darkn...|         50|[Life Changer.  I...|\n",
      "|      jamgame.absorb|         50|[Frantic and Unpr...|\n",
      "|com.imangi.temple...|         50|[.  Well to be ho...|\n",
      "|com.glu.contractk...|         50|[.  Inspite of ha...|\n",
      "|     com.iugome.dawn|         50|[Great game.  Pla...|\n",
      "|com.fungames.snip...|         50|[Super!.  Would b...|\n",
      "|   com.glu.deerhunt2|         50|[I only play regi...|\n",
      "|com.activision.wi...|         50|[Really.  The con...|\n",
      "|com.gameloft.andr...|         50|[Why i cant login...|\n",
      "|com.topfreegames....|         50|[Never Playing Ev...|\n",
      "|com.libra.chickchick|         50|[Luv it.  Its ver...|\n",
      "|com.rockstargames...|         50|[Gta v ifruit.  W...|\n",
      "|com.nekki.shadowf...|         50|[Ai counter timin...|\n",
      "|com.kabam.creatur...|         50|[Security Detecti...|\n",
      "|     com.pixel.gun3d|         50|[Couple of issues...|\n",
      "|com.candyrufusgam...|         50|[Awesome but...  ...|\n",
      "|com.gamehivecorp....|         50|[Awsome Game.  Cr...|\n",
      "|com.foosegames.pe...|         50|[Boring.  Speed i...|\n",
      "|com.tarekmongy.Fl...|         50|[Pretty fun.  I r...|\n",
      "+--------------------+-----------+--------------------+\n",
      "only showing top 20 rows\n",
      "\n",
      "There are 43041 applications in the dataset\n"
     ]
    }
   ],
   "source": [
    "mobile_app_reviews_df.show()\n",
    "print(f'There are {mobile_app_reviews_df.count()} applications in the dataset')"
   ]
  },
  {
   "cell_type": "markdown",
   "metadata": {},
   "source": [
    "The app reviews are stored as lists in each record. We need to create new rows for each one."
   ]
  },
  {
   "cell_type": "code",
   "execution_count": 6,
   "metadata": {},
   "outputs": [
    {
     "name": "stdout",
     "output_type": "stream",
     "text": [
      "+-----------+--------------------+\n",
      "|     app_id|                text|\n",
      "+-----------+--------------------+\n",
      "|com.nut.man|This game is very...|\n",
      "|com.nut.man|Terrific just get...|\n",
      "|com.nut.man|I CAN'T STOP TAPP...|\n",
      "|com.nut.man|.  The game itsel...|\n",
      "|com.nut.man|ADS GALORE!.  I w...|\n",
      "|com.nut.man|Really fun... But...|\n",
      "|com.nut.man|Literally a copy ...|\n",
      "|com.nut.man|Challenging Game!...|\n",
      "|com.nut.man|Addicted!!.  I am...|\n",
      "|com.nut.man|Nut-man? HA!.  I ...|\n",
      "|com.nut.man|.  Needs less ads...|\n",
      "|com.nut.man|SHAME ON YOU.  Sh...|\n",
      "|com.nut.man|What a ripoff.  E...|\n",
      "|com.nut.man|Fun but annoyingl...|\n",
      "|com.nut.man|This game is cool...|\n",
      "|com.nut.man|.  Fun game for a...|\n",
      "|com.nut.man|It's alright.  Ki...|\n",
      "|com.nut.man|.  This game is r...|\n",
      "|com.nut.man|Wtf.  The gears t...|\n",
      "|com.nut.man|Great game.  I wo...|\n",
      "+-----------+--------------------+\n",
      "only showing top 20 rows\n",
      "\n",
      "There are 1385607 individual reviews in the app reviews dataset\n"
     ]
    }
   ],
   "source": [
    "mobile_app_reviews_df = mobile_app_reviews_df.select(F.col('app_id'), F.explode(F.col('reviews')).alias('text'))\n",
    "mobile_app_reviews_df.show()\n",
    "print(f'There are {mobile_app_reviews_df.count()} individual reviews in the app reviews dataset')"
   ]
  },
  {
   "cell_type": "markdown",
   "metadata": {},
   "source": [
    "The mobile apps reviews data set has ~138k individual reviews, so it should be large enough to show a performance difference between methods."
   ]
  },
  {
   "cell_type": "markdown",
   "metadata": {},
   "source": [
    "## Prep the App Data for LDA"
   ]
  },
  {
   "cell_type": "markdown",
   "metadata": {},
   "source": [
    "To prep the data, we will:\n",
    "\n",
    "1. Remove leading and trailing whitespaces\n",
    "1. Remove non-alpha numeric characters and multiple spaces\n",
    "1. Split reviews into their individual words (tokenize)\n",
    "1. Create Term count and Inverse document frequency columns\n",
    "1. Collect the results and compute the time to prep text"
   ]
  },
  {
   "cell_type": "code",
   "execution_count": 7,
   "metadata": {},
   "outputs": [
    {
     "name": "stderr",
     "output_type": "stream",
     "text": [
      "                                                                                \r"
     ]
    },
    {
     "name": "stdout",
     "output_type": "stream",
     "text": [
      "22/11/13 21:09:40 WARN DAGScheduler: Broadcasting large task binary with size 2.9 MiB\n"
     ]
    },
    {
     "name": "stderr",
     "output_type": "stream",
     "text": [
      "[Stage 13:==================================================>       (7 + 1) / 8]\r"
     ]
    },
    {
     "name": "stdout",
     "output_type": "stream",
     "text": [
      "22/11/13 21:09:46 WARN DAGScheduler: Broadcasting large task binary with size 2.9 MiB\n"
     ]
    },
    {
     "name": "stderr",
     "output_type": "stream",
     "text": [
      "\r",
      "                                                                                \r"
     ]
    },
    {
     "name": "stdout",
     "output_type": "stream",
     "text": [
      "22/11/13 21:09:46 WARN DAGScheduler: Broadcasting large task binary with size 6.9 MiB\n"
     ]
    },
    {
     "name": "stderr",
     "output_type": "stream",
     "text": [
      "                                                                                \r"
     ]
    },
    {
     "name": "stdout",
     "output_type": "stream",
     "text": [
      "CPU times: user 1min 53s, sys: 2.56 s, total: 1min 56s\n",
      "Wall time: 2min 20s\n"
     ]
    },
    {
     "data": {
      "text/plain": [
       "Row(app_id='com.nut.man', text='This game is very good Kudos to the developer Wow absolutely stunning simple addictive and a distinctive flair Can you imagine this game with upgrades The ads are fine just control yourself and keep calm', tokens=['this', 'game', 'is', 'very', 'good', 'kudos', 'to', 'the', 'developer', 'wow', 'absolutely', 'stunning', 'simple', 'addictive', 'and', 'a', 'distinctive', 'flair', 'can', 'you', 'imagine', 'this', 'game', 'with', 'upgrades', 'the', 'ads', 'are', 'fine', 'just', 'control', 'yourself', 'and', 'keep', 'calm'], vectors=SparseVector(262144, {0: 2.0, 2: 1.0, 4: 2.0, 5: 1.0, 6: 2.0, 8: 1.0, 9: 2.0, 15: 1.0, 19: 1.0, 26: 1.0, 29: 1.0, 33: 1.0, 35: 1.0, 36: 1.0, 119: 1.0, 148: 1.0, 164: 1.0, 246: 1.0, 287: 1.0, 330: 1.0, 346: 1.0, 422: 1.0, 433: 1.0, 1107: 1.0, 1198: 1.0, 2197: 1.0, 2225: 1.0, 2258: 1.0, 3214: 1.0, 13128: 1.0, 13448: 1.0}), idf=SparseVector(262144, {0: 1.8558, 2: 1.0315, 4: 2.2732, 5: 1.2821, 6: 2.5463, 8: 1.4355, 9: 3.4094, 15: 1.9219, 19: 1.9639, 26: 2.2564, 29: 2.3869, 33: 2.4797, 35: 2.602, 36: 2.6651, 119: 3.6723, 148: 4.1787, 164: 4.0596, 246: 4.5104, 287: 4.7166, 330: 4.8538, 346: 4.9088, 422: 5.0729, 433: 5.1852, 1107: 6.3374, 1198: 6.475, 2197: 7.3381, 2225: 7.3216, 2258: 7.3448, 3214: 7.9679, 13128: 10.3575, 13448: 10.3804}))"
      ]
     },
     "execution_count": 7,
     "metadata": {},
     "output_type": "execute_result"
    }
   ],
   "source": [
    "%%time\n",
    "mobile_app_reviews_df = mobile_app_reviews_df.withColumn('text', F.trim(F.col('text')))\n",
    "\n",
    "mobile_app_reviews_df = mobile_app_reviews_df.withColumn('text', F.regexp_replace(F.col('text'), r'[^a-zA-Z ]', ''))\n",
    "mobile_app_reviews_df = mobile_app_reviews_df.withColumn('text', F.regexp_replace(F.col('text'), r'\\s{2,}', ' '))\n",
    "\n",
    "tokenizer = Tokenizer(inputCol='text', outputCol=\"tokens\")\n",
    "mobile_app_reviews_df = tokenizer.transform(mobile_app_reviews_df)\n",
    "\n",
    "cv = CountVectorizer(inputCol='tokens', outputCol='vectors')\n",
    "cv_model = cv.fit(mobile_app_reviews_df)\n",
    "mobile_app_reviews_df = cv_model.transform(mobile_app_reviews_df)\n",
    "\n",
    "idf = IDF(minDocFreq=3, inputCol='vectors', outputCol='idf')\n",
    "idf_model = idf.fit(mobile_app_reviews_df)\n",
    "mobile_app_reviews_df = idf_model.transform(mobile_app_reviews_df)\n",
    "\n",
    "# Compute the entire dataframe, but only print the first row\n",
    "mobile_app_reviews_df.collect()[0]"
   ]
  },
  {
   "cell_type": "markdown",
   "metadata": {},
   "source": [
    "## Save the prepped data to file"
   ]
  },
  {
   "cell_type": "code",
   "execution_count": 8,
   "metadata": {},
   "outputs": [
    {
     "name": "stdout",
     "output_type": "stream",
     "text": [
      "22/11/13 21:11:54 WARN DAGScheduler: Broadcasting large task binary with size 7.1 MiB\n"
     ]
    },
    {
     "name": "stderr",
     "output_type": "stream",
     "text": [
      "[Stage 16:===========================================>              (6 + 2) / 8]\r"
     ]
    },
    {
     "name": "stdout",
     "output_type": "stream",
     "text": [
      "CPU times: user 7.22 ms, sys: 0 ns, total: 7.22 ms\n",
      "Wall time: 10.2 s\n"
     ]
    },
    {
     "name": "stderr",
     "output_type": "stream",
     "text": [
      "\r",
      "                                                                                \r"
     ]
    }
   ],
   "source": [
    "%%time\n",
    "mobile_app_reviews_df.write.mode(\"overwrite\").parquet(\"../../data/cleaned/appsearch_reviews_clean.txt\")"
   ]
  }
 ],
 "metadata": {
  "kernelspec": {
   "display_name": "Python 3 (ipykernel)",
   "language": "python",
   "name": "python3"
  },
  "language_info": {
   "codemirror_mode": {
    "name": "ipython",
    "version": 3
   },
   "file_extension": ".py",
   "mimetype": "text/x-python",
   "name": "python",
   "nbconvert_exporter": "python",
   "pygments_lexer": "ipython3",
   "version": "3.8.10"
  }
 },
 "nbformat": 4,
 "nbformat_minor": 4
}
