{
 "cells": [
  {
   "cell_type": "markdown",
   "id": "03ece08c",
   "metadata": {},
   "source": [
    "# Rapids Text Processing"
   ]
  },
  {
   "cell_type": "markdown",
   "id": "90de699a",
   "metadata": {},
   "source": [
    "This notebook contains all the code assosicated with the Nvidia RAPIDS text pre-processing."
   ]
  },
  {
   "cell_type": "markdown",
   "id": "0662a943",
   "metadata": {},
   "source": [
    "## Project Setup\n",
    "\n",
    "This section imports all required libraries and downloads data for required packages. The installation is commented out as it only needs to be completed once per machine."
   ]
  },
  {
   "cell_type": "code",
   "execution_count": 1,
   "id": "864ab6ac",
   "metadata": {},
   "outputs": [],
   "source": [
    "import cudf\n",
    "import nltk\n",
    "import pandas as pd\n",
    "\n",
    "# Install nltk data\n",
    "#nltk.download('stopwords')"
   ]
  },
  {
   "cell_type": "markdown",
   "id": "65e95cf5",
   "metadata": {},
   "source": [
    "## Loading the Text\n",
    "\n",
    "This section will load in the data."
   ]
  },
  {
   "cell_type": "markdown",
   "id": "a0d41132",
   "metadata": {},
   "source": [
    "First, the data is read into a GPU dataframe, `reviews`. Due to limitations of how rapids reads JSON files, the file is read using pandas first, then sent to the GPU."
   ]
  },
  {
   "cell_type": "code",
   "execution_count": 2,
   "id": "0a73f6be",
   "metadata": {},
   "outputs": [
    {
     "data": {
      "text/html": [
       "<div>\n",
       "<style scoped>\n",
       "    .dataframe tbody tr th:only-of-type {\n",
       "        vertical-align: middle;\n",
       "    }\n",
       "\n",
       "    .dataframe tbody tr th {\n",
       "        vertical-align: top;\n",
       "    }\n",
       "\n",
       "    .dataframe thead th {\n",
       "        text-align: right;\n",
       "    }\n",
       "</style>\n",
       "<table border=\"1\" class=\"dataframe\">\n",
       "  <thead>\n",
       "    <tr style=\"text-align: right;\">\n",
       "      <th></th>\n",
       "      <th>reviews</th>\n",
       "      <th>app_id</th>\n",
       "    </tr>\n",
       "  </thead>\n",
       "  <tbody>\n",
       "    <tr>\n",
       "      <th>0</th>\n",
       "      <td>This game is very good! Kudos to the developer...</td>\n",
       "      <td>com.nut.man</td>\n",
       "    </tr>\n",
       "    <tr>\n",
       "      <th>1</th>\n",
       "      <td>Terrific just get rid of ads and it will be th...</td>\n",
       "      <td>com.nut.man</td>\n",
       "    </tr>\n",
       "    <tr>\n",
       "      <th>2</th>\n",
       "      <td>I CAN'T STOP TAPPING.  This game is too addict...</td>\n",
       "      <td>com.nut.man</td>\n",
       "    </tr>\n",
       "    <tr>\n",
       "      <th>3</th>\n",
       "      <td>.  The game itself is really fun but the way t...</td>\n",
       "      <td>com.nut.man</td>\n",
       "    </tr>\n",
       "    <tr>\n",
       "      <th>4</th>\n",
       "      <td>ADS GALORE!.  I was bored 1 day then came acro...</td>\n",
       "      <td>com.nut.man</td>\n",
       "    </tr>\n",
       "  </tbody>\n",
       "</table>\n",
       "</div>"
      ],
      "text/plain": [
       "                                             reviews       app_id\n",
       "0  This game is very good! Kudos to the developer...  com.nut.man\n",
       "1  Terrific just get rid of ads and it will be th...  com.nut.man\n",
       "2  I CAN'T STOP TAPPING.  This game is too addict...  com.nut.man\n",
       "3  .  The game itself is really fun but the way t...  com.nut.man\n",
       "4  ADS GALORE!.  I was bored 1 day then came acro...  com.nut.man"
      ]
     },
     "execution_count": 2,
     "metadata": {},
     "output_type": "execute_result"
    }
   ],
   "source": [
    "reviews_pd = pd.read_json('../../data/raw/appsearch_reviews/appsearch_reviews.txt', lines=True)\n",
    "reviews_pd = reviews_pd.explode(\"reviews\").reset_index(drop=True).drop(\"num_reviews\", axis=1)\n",
    "reviews = cudf.from_pandas(reviews_pd)\n",
    "\n",
    "reviews.head()"
   ]
  },
  {
   "cell_type": "markdown",
   "id": "a1e65662",
   "metadata": {},
   "source": [
    "## Exploring the Data\n",
    "\n",
    "This section will do a quick exploration of the data to check for major issues. Things to include:\n",
    "\n",
    "* Missing records\n",
    "* Check very short and very long records"
   ]
  },
  {
   "cell_type": "markdown",
   "id": "b823c0ab",
   "metadata": {},
   "source": [
    "First, start with a preview of the dataframe records and a count of total records"
   ]
  },
  {
   "cell_type": "code",
   "execution_count": 3,
   "id": "1096536c",
   "metadata": {},
   "outputs": [
    {
     "data": {
      "text/html": [
       "<div>\n",
       "<style scoped>\n",
       "    .dataframe tbody tr th:only-of-type {\n",
       "        vertical-align: middle;\n",
       "    }\n",
       "\n",
       "    .dataframe tbody tr th {\n",
       "        vertical-align: top;\n",
       "    }\n",
       "\n",
       "    .dataframe thead th {\n",
       "        text-align: right;\n",
       "    }\n",
       "</style>\n",
       "<table border=\"1\" class=\"dataframe\">\n",
       "  <thead>\n",
       "    <tr style=\"text-align: right;\">\n",
       "      <th></th>\n",
       "      <th>reviews</th>\n",
       "      <th>app_id</th>\n",
       "    </tr>\n",
       "  </thead>\n",
       "  <tbody>\n",
       "    <tr>\n",
       "      <th>0</th>\n",
       "      <td>This game is very good! Kudos to the developer...</td>\n",
       "      <td>com.nut.man</td>\n",
       "    </tr>\n",
       "    <tr>\n",
       "      <th>1</th>\n",
       "      <td>Terrific just get rid of ads and it will be th...</td>\n",
       "      <td>com.nut.man</td>\n",
       "    </tr>\n",
       "    <tr>\n",
       "      <th>2</th>\n",
       "      <td>I CAN'T STOP TAPPING.  This game is too addict...</td>\n",
       "      <td>com.nut.man</td>\n",
       "    </tr>\n",
       "    <tr>\n",
       "      <th>3</th>\n",
       "      <td>.  The game itself is really fun but the way t...</td>\n",
       "      <td>com.nut.man</td>\n",
       "    </tr>\n",
       "    <tr>\n",
       "      <th>4</th>\n",
       "      <td>ADS GALORE!.  I was bored 1 day then came acro...</td>\n",
       "      <td>com.nut.man</td>\n",
       "    </tr>\n",
       "  </tbody>\n",
       "</table>\n",
       "</div>"
      ],
      "text/plain": [
       "                                             reviews       app_id\n",
       "0  This game is very good! Kudos to the developer...  com.nut.man\n",
       "1  Terrific just get rid of ads and it will be th...  com.nut.man\n",
       "2  I CAN'T STOP TAPPING.  This game is too addict...  com.nut.man\n",
       "3  .  The game itself is really fun but the way t...  com.nut.man\n",
       "4  ADS GALORE!.  I was bored 1 day then came acro...  com.nut.man"
      ]
     },
     "metadata": {},
     "output_type": "display_data"
    },
    {
     "name": "stdout",
     "output_type": "stream",
     "text": [
      "--------------------------\n",
      "Number of records: 1388668\n"
     ]
    }
   ],
   "source": [
    "display(reviews.head())\n",
    "\n",
    "print(f'--------------------------\\nNumber of records: {len(reviews)}')"
   ]
  },
  {
   "cell_type": "markdown",
   "id": "4a23b33d",
   "metadata": {},
   "source": [
    "## Pre-process the Text\n",
    "\n",
    "This section will go through basic text cleaning steps.\n",
    "\n",
    "* Language detection (check that only english is included, chec the topic modeling Twitter data paper for what they used to complete this task).\n",
    "* Normalize the text (make all text lowercase)\n",
    "* Remove special characters\n",
    "* Remove common stop words\n",
    "* Remove numbers\n",
    "* Remove extra whitespaces\n",
    "* Tokenize the words\n",
    "* Stem/Lemmatize the words"
   ]
  },
  {
   "cell_type": "markdown",
   "id": "94d900c7",
   "metadata": {},
   "source": [
    "The text pre-processing was built as a single function. The function is based off one provided in the Nvida Developer blog to pre-process text data. (https://developer.nvidia.com/blog/nlp-and-text-precessing-with-rapids-now-simpler-and-faster/)\n",
    "\n",
    "The basic stopwords are coming from the `nltk` package's english stopword list.\n",
    "\n",
    "The `filters` variable contains special characters to remove from the text, including tab and newline characters."
   ]
  },
  {
   "cell_type": "code",
   "execution_count": 4,
   "id": "d486cced",
   "metadata": {},
   "outputs": [],
   "source": [
    "STOPWORDS = nltk.corpus.stopwords.words('english')\n",
    "\n",
    "filters = [ '!', '\"', '#', '$', '%', '&', '(', ')', '*', '+', '-', '.', '/',  '\\\\', ':', ';', '<', '=', '>',\n",
    "           '?', '@', '[', ']', '^', '_', '`', '{', '|', '}', '\\t','\\n',\"'\",\",\",'~' , '—']\n",
    "\n",
    "def preprocess_text(input_strs, filters=None, stopwords=STOPWORDS):\n",
    "    \"\"\"\n",
    "        * filter punctuation\n",
    "        * to_lower\n",
    "        * remove stop words (from nltk)\n",
    "        * replace multiple spaces with one\n",
    "        * remove leading spaces\n",
    "    \"\"\"\n",
    "    \n",
    "    # filter punctuation and case conversions\n",
    "    translation_table = {ord(char): ord(\" \") for char in filters}\n",
    "    input_strs = input_strs.str.translate(translation_table)\n",
    "    input_strs = input_strs.str.lower()\n",
    "    \n",
    "    # Remove stopwords\n",
    "    stopwords_gpu = cudf.Series(stopwords)\n",
    "    input_strs = input_strs.str.replace_tokens(stopwords_gpu, ' ')\n",
    "    \n",
    "    # Replace multiple spaces with single one and strip leading/trailing spaces\n",
    "    input_strs = input_strs.str.normalize_spaces()\n",
    "    input_strs = input_strs.str.strip(' ')\n",
    "    \n",
    "    return input_strs"
   ]
  },
  {
   "cell_type": "code",
   "execution_count": 5,
   "id": "3a61da74",
   "metadata": {},
   "outputs": [
    {
     "data": {
      "text/html": [
       "<div>\n",
       "<style scoped>\n",
       "    .dataframe tbody tr th:only-of-type {\n",
       "        vertical-align: middle;\n",
       "    }\n",
       "\n",
       "    .dataframe tbody tr th {\n",
       "        vertical-align: top;\n",
       "    }\n",
       "\n",
       "    .dataframe thead th {\n",
       "        text-align: right;\n",
       "    }\n",
       "</style>\n",
       "<table border=\"1\" class=\"dataframe\">\n",
       "  <thead>\n",
       "    <tr style=\"text-align: right;\">\n",
       "      <th></th>\n",
       "      <th>reviews</th>\n",
       "      <th>app_id</th>\n",
       "      <th>clean_review</th>\n",
       "    </tr>\n",
       "  </thead>\n",
       "  <tbody>\n",
       "    <tr>\n",
       "      <th>0</th>\n",
       "      <td>This game is very good! Kudos to the developer...</td>\n",
       "      <td>com.nut.man</td>\n",
       "      <td>game good kudos developer wow absolutely stunn...</td>\n",
       "    </tr>\n",
       "    <tr>\n",
       "      <th>1</th>\n",
       "      <td>Terrific just get rid of ads and it will be th...</td>\n",
       "      <td>com.nut.man</td>\n",
       "      <td>terrific get rid ads best game ever even thoug...</td>\n",
       "    </tr>\n",
       "    <tr>\n",
       "      <th>2</th>\n",
       "      <td>I CAN'T STOP TAPPING.  This game is too addict...</td>\n",
       "      <td>com.nut.man</td>\n",
       "      <td>stop tapping game addicting challenging always...</td>\n",
       "    </tr>\n",
       "    <tr>\n",
       "      <th>3</th>\n",
       "      <td>.  The game itself is really fun but the way t...</td>\n",
       "      <td>com.nut.man</td>\n",
       "      <td>game really fun way ads get slipped irritating...</td>\n",
       "    </tr>\n",
       "    <tr>\n",
       "      <th>4</th>\n",
       "      <td>ADS GALORE!.  I was bored 1 day then came acro...</td>\n",
       "      <td>com.nut.man</td>\n",
       "      <td>ads galore bored 1 day came across game love n...</td>\n",
       "    </tr>\n",
       "    <tr>\n",
       "      <th>...</th>\n",
       "      <td>...</td>\n",
       "      <td>...</td>\n",
       "      <td>...</td>\n",
       "    </tr>\n",
       "    <tr>\n",
       "      <th>1388663</th>\n",
       "      <td>Awesome.  Unlike other apps this does not requ...</td>\n",
       "      <td>air.com.jcward.speedwords</td>\n",
       "      <td>awesome unlike apps require people buy app pla...</td>\n",
       "    </tr>\n",
       "    <tr>\n",
       "      <th>1388664</th>\n",
       "      <td>Simple concept well executed.  The game is sim...</td>\n",
       "      <td>air.com.jcward.speedwords</td>\n",
       "      <td>simple concept well executed game simple play ...</td>\n",
       "    </tr>\n",
       "    <tr>\n",
       "      <th>1388665</th>\n",
       "      <td>.  Engaging</td>\n",
       "      <td>air.com.jcward.speedwords_demo</td>\n",
       "      <td>engaging</td>\n",
       "    </tr>\n",
       "    <tr>\n",
       "      <th>1388666</th>\n",
       "      <td>Just playyyy.  So cool</td>\n",
       "      <td>air.com.jcward.speedwords_demo</td>\n",
       "      <td>playyyy cool</td>\n",
       "    </tr>\n",
       "    <tr>\n",
       "      <th>1388667</th>\n",
       "      <td>A fun addictive game..  A great time filler fo...</td>\n",
       "      <td>com.nickhorne.sqword</td>\n",
       "      <td>fun addictive game great time filler idle minutes</td>\n",
       "    </tr>\n",
       "  </tbody>\n",
       "</table>\n",
       "<p>1388668 rows × 3 columns</p>\n",
       "</div>"
      ],
      "text/plain": [
       "                                                   reviews  \\\n",
       "0        This game is very good! Kudos to the developer...   \n",
       "1        Terrific just get rid of ads and it will be th...   \n",
       "2        I CAN'T STOP TAPPING.  This game is too addict...   \n",
       "3        .  The game itself is really fun but the way t...   \n",
       "4        ADS GALORE!.  I was bored 1 day then came acro...   \n",
       "...                                                    ...   \n",
       "1388663  Awesome.  Unlike other apps this does not requ...   \n",
       "1388664  Simple concept well executed.  The game is sim...   \n",
       "1388665                                        .  Engaging   \n",
       "1388666                             Just playyyy.  So cool   \n",
       "1388667  A fun addictive game..  A great time filler fo...   \n",
       "\n",
       "                                 app_id  \\\n",
       "0                           com.nut.man   \n",
       "1                           com.nut.man   \n",
       "2                           com.nut.man   \n",
       "3                           com.nut.man   \n",
       "4                           com.nut.man   \n",
       "...                                 ...   \n",
       "1388663       air.com.jcward.speedwords   \n",
       "1388664       air.com.jcward.speedwords   \n",
       "1388665  air.com.jcward.speedwords_demo   \n",
       "1388666  air.com.jcward.speedwords_demo   \n",
       "1388667            com.nickhorne.sqword   \n",
       "\n",
       "                                              clean_review  \n",
       "0        game good kudos developer wow absolutely stunn...  \n",
       "1        terrific get rid ads best game ever even thoug...  \n",
       "2        stop tapping game addicting challenging always...  \n",
       "3        game really fun way ads get slipped irritating...  \n",
       "4        ads galore bored 1 day came across game love n...  \n",
       "...                                                    ...  \n",
       "1388663  awesome unlike apps require people buy app pla...  \n",
       "1388664  simple concept well executed game simple play ...  \n",
       "1388665                                           engaging  \n",
       "1388666                                       playyyy cool  \n",
       "1388667  fun addictive game great time filler idle minutes  \n",
       "\n",
       "[1388668 rows x 3 columns]"
      ]
     },
     "metadata": {},
     "output_type": "display_data"
    },
    {
     "name": "stdout",
     "output_type": "stream",
     "text": [
      "CPU times: user 260 ms, sys: 15.9 ms, total: 276 ms\n",
      "Wall time: 265 ms\n"
     ]
    }
   ],
   "source": [
    "%%time\n",
    "translation_table = {ord(char): ord(\" \") for char in filters}\n",
    "input_strs = reviews['reviews'].str.translate(translation_table)\n",
    "input_strs = input_strs.str.lower()\n",
    "\n",
    "reviews['clean_review'] = preprocess_text(reviews['reviews'], filters=filters, stopwords=STOPWORDS)\n",
    "\n",
    "display(reviews)"
   ]
  },
  {
   "cell_type": "markdown",
   "id": "a4192415",
   "metadata": {},
   "source": [
    "## Output the data to file"
   ]
  },
  {
   "cell_type": "code",
   "execution_count": 6,
   "id": "07a04be3",
   "metadata": {},
   "outputs": [
    {
     "name": "stdout",
     "output_type": "stream",
     "text": [
      "CPU times: user 205 ms, sys: 156 ms, total: 361 ms\n",
      "Wall time: 429 ms\n"
     ]
    }
   ],
   "source": [
    "%%time\n",
    "reviews.to_parquet('../../data/cleaned/appsearch_reviews_clean_rapids', index=False)"
   ]
  },
  {
   "cell_type": "markdown",
   "id": "4f52154f",
   "metadata": {},
   "source": [
    "## Loading the Yelp Reviews Data"
   ]
  },
  {
   "cell_type": "code",
   "execution_count": 7,
   "id": "f4e559e1",
   "metadata": {},
   "outputs": [],
   "source": [
    "#yelp_reviews_path = '../../data/raw/yelp_archive/yelp_academic_dataset_review.json'\n",
    "#yelp_reviews_df = cudf.read_json(yelp_reviews_path, engine='cudf', lines=True, nrows=100)"
   ]
  }
 ],
 "metadata": {
  "kernelspec": {
   "display_name": "Python 3 (ipykernel)",
   "language": "python",
   "name": "python3"
  },
  "language_info": {
   "codemirror_mode": {
    "name": "ipython",
    "version": 3
   },
   "file_extension": ".py",
   "mimetype": "text/x-python",
   "name": "python",
   "nbconvert_exporter": "python",
   "pygments_lexer": "ipython3",
   "version": "3.9.13"
  }
 },
 "nbformat": 4,
 "nbformat_minor": 5
}
