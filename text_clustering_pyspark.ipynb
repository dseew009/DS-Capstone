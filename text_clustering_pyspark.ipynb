{
 "cells": [
  {
   "cell_type": "markdown",
   "metadata": {},
   "source": [
    "# Apache Spark (Pyspark) Text Clustering - LDA"
   ]
  },
  {
   "cell_type": "markdown",
   "metadata": {},
   "source": [
    "## Notebook Setup\n",
    "\n",
    "The following will load the required libraries and setup the environment for use"
   ]
  },
  {
   "cell_type": "code",
   "execution_count": 1,
   "metadata": {},
   "outputs": [],
   "source": [
    "import pyspark\n",
    "from pyspark.sql import SparkSession\n",
    "from pyspark.ml.clustering import LDA\n",
    "#import pyspark.sql.functions as F\n",
    "#from pyspark.ml.feature import"
   ]
  },
  {
   "cell_type": "code",
   "execution_count": 2,
   "metadata": {},
   "outputs": [
    {
     "name": "stdout",
     "output_type": "stream",
     "text": [
      "22/11/13 23:37:46 WARN Utils: Your hostname, cheetah resolves to a loopback address: 127.0.1.1; using 192.168.1.66 instead (on interface eno1)\n",
      "22/11/13 23:37:46 WARN Utils: Set SPARK_LOCAL_IP if you need to bind to another address\n"
     ]
    },
    {
     "name": "stderr",
     "output_type": "stream",
     "text": [
      "Setting default log level to \"WARN\".\n",
      "To adjust logging level use sc.setLogLevel(newLevel). For SparkR, use setLogLevel(newLevel).\n"
     ]
    },
    {
     "name": "stdout",
     "output_type": "stream",
     "text": [
      "22/11/13 23:37:46 WARN NativeCodeLoader: Unable to load native-hadoop library for your platform... using builtin-java classes where applicable\n",
      "pyspark version: 3.3.0\n"
     ]
    }
   ],
   "source": [
    "spark = SparkSession.builder.master('local[*]').config(\"spark.driver.memory\", \"24g\").appName('spark').getOrCreate()\n",
    "sc = spark.sparkContext\n",
    "print(f'pyspark version: {sc.version}')"
   ]
  },
  {
   "cell_type": "markdown",
   "metadata": {},
   "source": [
    "## Load the Prepared App Reviews Dataset\n",
    "\n",
    "The data was already prepared in the [apache-spark text prep notebook](../../text_prep/apache-spark/text_prep_pyspark_linux.ipynb)."
   ]
  },
  {
   "cell_type": "code",
   "execution_count": 3,
   "metadata": {},
   "outputs": [],
   "source": [
    "mobile_app_reviews_df = spark.read.parquet(\"../../data/cleaned/appsearch_reviews_clean.txt\")"
   ]
  },
  {
   "cell_type": "markdown",
   "metadata": {},
   "source": [
    "Show the first few lines to ensure it read in properly"
   ]
  },
  {
   "cell_type": "code",
   "execution_count": 4,
   "metadata": {},
   "outputs": [
    {
     "name": "stdout",
     "output_type": "stream",
     "text": [
      "+--------------------+--------------------+--------------------+--------------------+--------------------+\n",
      "|              app_id|                text|              tokens|             vectors|                 idf|\n",
      "+--------------------+--------------------+--------------------+--------------------+--------------------+\n",
      "|com.lg.crazy.taxi...| Catalat catlat p...|[, catalat, catla...|(262144,[5,11,231...|(262144,[5,11,231...|\n",
      "|com.lg.crazy.taxi...|Okay I like it bu...|[okay, i, like, i...|(262144,[1,3,14,2...|(262144,[1,3,14,2...|\n",
      "|com.lg.crazy.taxi...|Love Its amazing ...|[love, its, amazi...|(262144,[3,21,22,...|(262144,[3,21,22,...|\n",
      "|com.lg.crazy.taxi...| Adhd Circle of life|[adhd, circle, of...|(262144,[13,371,2...|(262144,[13,371,2...|\n",
      "|com.lg.crazy.taxi...|        Awsome Great|     [awsome, great]|(262144,[17,423],...|(262144,[17,423],...|\n",
      "|com.lg.crazy.taxi...| Its kind of fun ...|[, its, kind, of,...|(262144,[1,3,11,1...|(262144,[1,3,11,1...|\n",
      "|com.lg.crazy.taxi...|     Awesome Awesome|  [awesome, awesome]| (262144,[57],[2.0])|(262144,[57],[5.7...|\n",
      "|com.lg.crazy.taxi...|Loved it Really v...|[loved, it, reall...|(262144,[3,4,9,29...|(262144,[3,4,9,29...|\n",
      "|com.lg.crazy.taxi...|Crazy Taxi Driver...|[crazy, taxi, dri...|(262144,[0,1,2,3,...|(262144,[0,1,2,3,...|\n",
      "|com.lg.crazy.taxi...|Cool Wow amazing ...|[cool, wow, amazi...|(262144,[9,19,87,...|(262144,[9,19,87,...|\n",
      "|com.lg.crazy.taxi...|Nice Game Nice Wo...|[nice, game, nice...|(262144,[0,1,2,6,...|(262144,[0,1,2,6,...|\n",
      "|com.lg.crazy.taxi...|Very nice Its coo...|[very, nice, its,...|(262144,[1,6,9,13...|(262144,[1,6,9,13...|\n",
      "|com.lg.crazy.taxi...|superb taxi game ...|[superb, taxi, ga...|(262144,[1,9,21,2...|(262144,[1,9,21,2...|\n",
      "|com.lg.crazy.taxi...| please dont get ...|[, please, dont, ...|(262144,[6,9,11,1...|(262144,[6,9,11,1...|\n",
      "|com.lg.crazy.taxi...|So cool I like it...|[so, cool, i, lik...|(262144,[1,3,14,2...|(262144,[1,3,14,2...|\n",
      "|com.lg.crazy.taxi...|Las Lisa Lhasa ll...|[las, lisa, lhasa...|(262144,[333,426,...|(262144,[333,426,...|\n",
      "|com.lg.crazy.taxi...|        Nice to play|  [, nice, to, play]|(262144,[2,11,51,...|(262144,[2,11,51,...|\n",
      "|com.lg.crazy.taxi...|       good graphics|  [, good, graphics]|(262144,[11,19,20...|(262144,[11,19,20...|\n",
      "|com.lg.crazy.taxi...|             Good Ok|          [good, ok]|(262144,[19,144],...|(262144,[19,144],...|\n",
      "|com.lg.crazy.taxi...|tab Herger this a...|[tab, herger, thi...|(262144,[6,36,569...|(262144,[6,36,569...|\n",
      "+--------------------+--------------------+--------------------+--------------------+--------------------+\n",
      "only showing top 20 rows\n",
      "\n"
     ]
    }
   ],
   "source": [
    "mobile_app_reviews_df.show()"
   ]
  },
  {
   "cell_type": "markdown",
   "metadata": {},
   "source": [
    "## Run the LDA model"
   ]
  },
  {
   "cell_type": "code",
   "execution_count": 5,
   "metadata": {},
   "outputs": [
    {
     "name": "stderr",
     "output_type": "stream",
     "text": [
      "[Stage 220:=================================================>       (7 + 1) / 8]\r"
     ]
    },
    {
     "name": "stdout",
     "output_type": "stream",
     "text": [
      "CPU times: user 95.1 ms, sys: 19.5 ms, total: 115 ms\n",
      "Wall time: 4min 45s\n"
     ]
    },
    {
     "name": "stderr",
     "output_type": "stream",
     "text": [
      "\r",
      "                                                                                \r"
     ]
    }
   ],
   "source": [
    "%%time\n",
    "lda = LDA(k=6, seed=1, optimizer=\"em\", maxIter=10, featuresCol=\"idf\")\n",
    "\n",
    "lda_model = lda.fit(mobile_app_reviews_df)"
   ]
  },
  {
   "cell_type": "markdown",
   "metadata": {},
   "source": [
    "## Some summary information about the model\n",
    "\n",
    "Here we can look at the topics by their top-weighted terms. We can re-process the data to remove some stop words here if we see any issues with the topics."
   ]
  },
  {
   "cell_type": "code",
   "execution_count": 6,
   "metadata": {},
   "outputs": [
    {
     "name": "stdout",
     "output_type": "stream",
     "text": [
      "+-----+---------------+---------------------------------------------------------------------------------------------------------------+\n",
      "|topic|termIndices    |termWeights                                                                                                    |\n",
      "+-----+---------------+---------------------------------------------------------------------------------------------------------------+\n",
      "|0    |[0, 1, 2, 3, 4]|[0.009289626977969494, 0.007965217406059433, 0.007870085390111577, 0.007183354118510596, 0.006949654704042732] |\n",
      "|1    |[0, 1, 2, 3, 4]|[0.009268184801376806, 0.008013803147922329, 0.007870600674189373, 0.007203990668316692, 0.006960621698365707] |\n",
      "|2    |[0, 1, 2, 3, 4]|[0.009284798522312085, 0.007988603935662137, 0.007870173574687575, 0.007160821343449149, 0.006967605974319328] |\n",
      "|3    |[0, 1, 2, 3, 4]|[0.009293736749169081, 0.007973858257217002, 0.007866823522359003, 0.007138938329049696, 0.0069616364060373715]|\n",
      "|4    |[0, 1, 2, 3, 4]|[0.009255196034142392, 0.007929994036237016, 0.007843770400832954, 0.007153700496372452, 0.006935891930344936] |\n",
      "|5    |[0, 1, 2, 3, 4]|[0.009312846381269292, 0.00797835510523406, 0.007863235114857672, 0.007163277460770119, 0.006949075466437105]  |\n",
      "+-----+---------------+---------------------------------------------------------------------------------------------------------------+\n",
      "\n"
     ]
    }
   ],
   "source": [
    "topics = lda_model.describeTopics(5)\n",
    "topics.show(truncate=False)"
   ]
  }
 ],
 "metadata": {
  "kernelspec": {
   "display_name": "Python 3 (ipykernel)",
   "language": "python",
   "name": "python3"
  },
  "language_info": {
   "codemirror_mode": {
    "name": "ipython",
    "version": 3
   },
   "file_extension": ".py",
   "mimetype": "text/x-python",
   "name": "python",
   "nbconvert_exporter": "python",
   "pygments_lexer": "ipython3",
   "version": "3.8.10"
  }
 },
 "nbformat": 4,
 "nbformat_minor": 4
}
